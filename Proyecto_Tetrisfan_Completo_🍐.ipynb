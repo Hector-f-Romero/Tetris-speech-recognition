{
  "cells": [
    {
      "cell_type": "markdown",
      "metadata": {
        "id": "T7A5yBu46iHU"
      },
      "source": [
        "# Recolección y preprocesamiento de datos"
      ]
    },
    {
      "cell_type": "markdown",
      "metadata": {
        "id": "M5BNp2oCLQ2X"
      },
      "source": [
        "## Imports"
      ]
    },
    {
      "cell_type": "code",
      "execution_count": null,
      "metadata": {
        "id": "X_PPtElCmQpO"
      },
      "outputs": [],
      "source": [
        "# Importar librerias\n",
        "import os\n",
        "import glob\n",
        "from pathlib import Path\n",
        "import pandas as pd\n",
        "import numpy as np\n",
        "import matplotlib.pyplot as plt, IPython.display as ipd\n",
        "import librosa, librosa.display\n",
        "from librosa.util import normalize, fix_length\n",
        "from scipy.signal import butter\n",
        "from scipy.signal import filtfilt\n",
        "from keras.utils import to_categorical"
      ]
    },
    {
      "cell_type": "code",
      "execution_count": null,
      "metadata": {
        "id": "Dq4R9MqvX4_3"
      },
      "outputs": [],
      "source": [
        "!pip install noisereduce\n",
        "import noisereduce as nr"
      ]
    },
    {
      "cell_type": "code",
      "execution_count": null,
      "metadata": {
        "colab": {
          "base_uri": "https://localhost:8080/"
        },
        "id": "gFM1iVPBF-D0",
        "outputId": "caeb25d6-bbbd-4a27-b129-075895bf359c"
      },
      "outputs": [
        {
          "output_type": "stream",
          "name": "stdout",
          "text": [
            "Drive already mounted at /content/drive; to attempt to forcibly remount, call drive.mount(\"/content/drive\", force_remount=True).\n"
          ]
        }
      ],
      "source": [
        "from google.colab import drive\n",
        "drive.mount('/content/drive')"
      ]
    },
    {
      "cell_type": "markdown",
      "metadata": {
        "id": "QXjAiiCZTibm"
      },
      "source": [
        "## Parametros"
      ]
    },
    {
      "cell_type": "code",
      "execution_count": null,
      "metadata": {
        "id": "6-_zJTDHEa_k"
      },
      "outputs": [],
      "source": [
        "# Frecuencia de muestreo\n",
        "fs = 44100\n",
        "# Definir el umbral de silencio en dB\n",
        "top_db = 20\n",
        "\n",
        "#Definir los parámetros para el espectrograma de mel\n",
        "n_fft_parameter = int(0.025 * fs) # 25 ms en muestras\n",
        "hop_length_parameter = int(n_fft_parameter/2) # 10 ms en muestras\n",
        "n_mels_parameter = 40"
      ]
    },
    {
      "cell_type": "markdown",
      "metadata": {
        "id": "02yc-nwcHErm"
      },
      "source": [
        "## Lectura de archivos"
      ]
    },
    {
      "cell_type": "code",
      "execution_count": null,
      "metadata": {
        "colab": {
          "base_uri": "https://localhost:8080/"
        },
        "id": "jsqh5FqlHIgm",
        "outputId": "443958a7-d1c7-463e-b2bc-1835bad6ec5d"
      },
      "outputs": [
        {
          "output_type": "stream",
          "name": "stderr",
          "text": [
            "/usr/local/lib/python3.9/dist-packages/librosa/core/spectrum.py:256: UserWarning: n_fft=1024 is too large for input signal of length=809\n",
            "  warnings.warn(\n",
            "/usr/local/lib/python3.9/dist-packages/librosa/core/spectrum.py:256: UserWarning: n_fft=1024 is too large for input signal of length=684\n",
            "  warnings.warn(\n",
            "/usr/local/lib/python3.9/dist-packages/librosa/core/spectrum.py:256: UserWarning: n_fft=1024 is too large for input signal of length=824\n",
            "  warnings.warn(\n",
            "/usr/local/lib/python3.9/dist-packages/librosa/core/spectrum.py:256: UserWarning: n_fft=1024 is too large for input signal of length=993\n",
            "  warnings.warn(\n",
            "/usr/local/lib/python3.9/dist-packages/librosa/core/spectrum.py:256: UserWarning: n_fft=1024 is too large for input signal of length=497\n",
            "  warnings.warn(\n",
            "/usr/local/lib/python3.9/dist-packages/librosa/core/spectrum.py:256: UserWarning: n_fft=1024 is too large for input signal of length=882\n",
            "  warnings.warn(\n",
            "/usr/local/lib/python3.9/dist-packages/librosa/core/spectrum.py:256: UserWarning: n_fft=1024 is too large for input signal of length=552\n",
            "  warnings.warn(\n",
            "/usr/local/lib/python3.9/dist-packages/librosa/core/spectrum.py:256: UserWarning: n_fft=1024 is too large for input signal of length=441\n",
            "  warnings.warn(\n",
            "/usr/local/lib/python3.9/dist-packages/librosa/core/spectrum.py:256: UserWarning: n_fft=1024 is too large for input signal of length=607\n",
            "  warnings.warn(\n",
            "/usr/local/lib/python3.9/dist-packages/librosa/core/spectrum.py:256: UserWarning: n_fft=1024 is too large for input signal of length=717\n",
            "  warnings.warn(\n",
            "/usr/local/lib/python3.9/dist-packages/librosa/core/spectrum.py:256: UserWarning: n_fft=1024 is too large for input signal of length=772\n",
            "  warnings.warn(\n",
            "/usr/local/lib/python3.9/dist-packages/librosa/core/spectrum.py:256: UserWarning: n_fft=1024 is too large for input signal of length=827\n",
            "  warnings.warn(\n",
            "/usr/local/lib/python3.9/dist-packages/librosa/core/spectrum.py:256: UserWarning: n_fft=1024 is too large for input signal of length=662\n",
            "  warnings.warn(\n",
            "/usr/local/lib/python3.9/dist-packages/librosa/core/spectrum.py:256: UserWarning: n_fft=1024 is too large for input signal of length=938\n",
            "  warnings.warn(\n",
            "/usr/local/lib/python3.9/dist-packages/librosa/core/spectrum.py:256: UserWarning: n_fft=1024 is too large for input signal of length=802\n",
            "  warnings.warn(\n",
            "/usr/local/lib/python3.9/dist-packages/librosa/core/spectrum.py:256: UserWarning: n_fft=1024 is too large for input signal of length=769\n",
            "  warnings.warn(\n",
            "/usr/local/lib/python3.9/dist-packages/librosa/core/spectrum.py:256: UserWarning: n_fft=1024 is too large for input signal of length=842\n",
            "  warnings.warn(\n",
            "/usr/local/lib/python3.9/dist-packages/librosa/core/spectrum.py:256: UserWarning: n_fft=1024 is too large for input signal of length=598\n",
            "  warnings.warn(\n",
            "/usr/local/lib/python3.9/dist-packages/librosa/core/spectrum.py:256: UserWarning: n_fft=1024 is too large for input signal of length=767\n",
            "  warnings.warn(\n",
            "/usr/local/lib/python3.9/dist-packages/librosa/core/spectrum.py:256: UserWarning: n_fft=1024 is too large for input signal of length=763\n",
            "  warnings.warn(\n",
            "/usr/local/lib/python3.9/dist-packages/librosa/core/spectrum.py:256: UserWarning: n_fft=1024 is too large for input signal of length=811\n",
            "  warnings.warn(\n",
            "/usr/local/lib/python3.9/dist-packages/librosa/core/spectrum.py:256: UserWarning: n_fft=1024 is too large for input signal of length=526\n",
            "  warnings.warn(\n",
            "/usr/local/lib/python3.9/dist-packages/librosa/core/spectrum.py:256: UserWarning: n_fft=1024 is too large for input signal of length=735\n",
            "  warnings.warn(\n",
            "/usr/local/lib/python3.9/dist-packages/librosa/core/spectrum.py:256: UserWarning: n_fft=1024 is too large for input signal of length=647\n",
            "  warnings.warn(\n",
            "/usr/local/lib/python3.9/dist-packages/librosa/core/spectrum.py:256: UserWarning: n_fft=1024 is too large for input signal of length=713\n",
            "  warnings.warn(\n",
            "/usr/local/lib/python3.9/dist-packages/librosa/core/spectrum.py:256: UserWarning: n_fft=1024 is too large for input signal of length=853\n",
            "  warnings.warn(\n",
            "/usr/local/lib/python3.9/dist-packages/librosa/core/spectrum.py:256: UserWarning: n_fft=1024 is too large for input signal of length=873\n",
            "  warnings.warn(\n",
            "/usr/local/lib/python3.9/dist-packages/librosa/core/spectrum.py:256: UserWarning: n_fft=1024 is too large for input signal of length=565\n",
            "  warnings.warn(\n",
            "/usr/local/lib/python3.9/dist-packages/librosa/core/spectrum.py:256: UserWarning: n_fft=1024 is too large for input signal of length=927\n",
            "  warnings.warn(\n",
            "/usr/local/lib/python3.9/dist-packages/librosa/core/spectrum.py:256: UserWarning: n_fft=1024 is too large for input signal of length=464\n",
            "  warnings.warn(\n",
            "/usr/local/lib/python3.9/dist-packages/librosa/core/spectrum.py:256: UserWarning: n_fft=1024 is too large for input signal of length=554\n",
            "  warnings.warn(\n",
            "/usr/local/lib/python3.9/dist-packages/librosa/core/spectrum.py:256: UserWarning: n_fft=1024 is too large for input signal of length=673\n",
            "  warnings.warn(\n",
            "/usr/local/lib/python3.9/dist-packages/librosa/core/spectrum.py:256: UserWarning: n_fft=1024 is too large for input signal of length=941\n",
            "  warnings.warn(\n",
            "/usr/local/lib/python3.9/dist-packages/librosa/core/spectrum.py:256: UserWarning: n_fft=1024 is too large for input signal of length=634\n",
            "  warnings.warn(\n",
            "/usr/local/lib/python3.9/dist-packages/librosa/core/spectrum.py:256: UserWarning: n_fft=1024 is too large for input signal of length=666\n",
            "  warnings.warn(\n",
            "/usr/local/lib/python3.9/dist-packages/librosa/core/spectrum.py:256: UserWarning: n_fft=1024 is too large for input signal of length=625\n",
            "  warnings.warn(\n",
            "/usr/local/lib/python3.9/dist-packages/librosa/core/spectrum.py:256: UserWarning: n_fft=1024 is too large for input signal of length=936\n",
            "  warnings.warn(\n",
            "/usr/local/lib/python3.9/dist-packages/librosa/core/spectrum.py:256: UserWarning: n_fft=1024 is too large for input signal of length=792\n",
            "  warnings.warn(\n",
            "/usr/local/lib/python3.9/dist-packages/librosa/core/spectrum.py:256: UserWarning: n_fft=1024 is too large for input signal of length=386\n",
            "  warnings.warn(\n",
            "/usr/local/lib/python3.9/dist-packages/librosa/core/spectrum.py:256: UserWarning: n_fft=1024 is too large for input signal of length=651\n",
            "  warnings.warn(\n",
            "/usr/local/lib/python3.9/dist-packages/librosa/core/spectrum.py:256: UserWarning: n_fft=1024 is too large for input signal of length=805\n",
            "  warnings.warn(\n",
            "/usr/local/lib/python3.9/dist-packages/librosa/core/spectrum.py:256: UserWarning: n_fft=1024 is too large for input signal of length=704\n",
            "  warnings.warn(\n",
            "/usr/local/lib/python3.9/dist-packages/librosa/core/spectrum.py:256: UserWarning: n_fft=1024 is too large for input signal of length=796\n",
            "  warnings.warn(\n",
            "/usr/local/lib/python3.9/dist-packages/librosa/core/spectrum.py:256: UserWarning: n_fft=1024 is too large for input signal of length=528\n",
            "  warnings.warn(\n",
            "/usr/local/lib/python3.9/dist-packages/librosa/core/spectrum.py:256: UserWarning: n_fft=1024 is too large for input signal of length=978\n",
            "  warnings.warn(\n",
            "/usr/local/lib/python3.9/dist-packages/librosa/core/spectrum.py:256: UserWarning: n_fft=1024 is too large for input signal of length=489\n",
            "  warnings.warn(\n",
            "/usr/local/lib/python3.9/dist-packages/librosa/core/spectrum.py:256: UserWarning: n_fft=1024 is too large for input signal of length=971\n",
            "  warnings.warn(\n",
            "/usr/local/lib/python3.9/dist-packages/librosa/core/spectrum.py:256: UserWarning: n_fft=1024 is too large for input signal of length=486\n",
            "  warnings.warn(\n",
            "/usr/local/lib/python3.9/dist-packages/librosa/core/spectrum.py:256: UserWarning: n_fft=1024 is too large for input signal of length=778\n",
            "  warnings.warn(\n",
            "/usr/local/lib/python3.9/dist-packages/librosa/core/spectrum.py:256: UserWarning: n_fft=1024 is too large for input signal of length=642\n",
            "  warnings.warn(\n",
            "/usr/local/lib/python3.9/dist-packages/librosa/core/spectrum.py:256: UserWarning: n_fft=1024 is too large for input signal of length=724\n",
            "  warnings.warn(\n",
            "/usr/local/lib/python3.9/dist-packages/librosa/core/spectrum.py:256: UserWarning: n_fft=1024 is too large for input signal of length=675\n",
            "  warnings.warn(\n",
            "/usr/local/lib/python3.9/dist-packages/librosa/core/spectrum.py:256: UserWarning: n_fft=1024 is too large for input signal of length=690\n",
            "  warnings.warn(\n",
            "/usr/local/lib/python3.9/dist-packages/librosa/core/spectrum.py:256: UserWarning: n_fft=1024 is too large for input signal of length=618\n",
            "  warnings.warn(\n",
            "/usr/local/lib/python3.9/dist-packages/librosa/core/spectrum.py:256: UserWarning: n_fft=1024 is too large for input signal of length=886\n",
            "  warnings.warn(\n",
            "/usr/local/lib/python3.9/dist-packages/librosa/core/spectrum.py:256: UserWarning: n_fft=1024 is too large for input signal of length=443\n",
            "  warnings.warn(\n",
            "/usr/local/lib/python3.9/dist-packages/librosa/core/spectrum.py:256: UserWarning: n_fft=1024 is too large for input signal of length=557\n",
            "  warnings.warn(\n",
            "/usr/local/lib/python3.9/dist-packages/librosa/core/spectrum.py:256: UserWarning: n_fft=1024 is too large for input signal of length=728\n",
            "  warnings.warn(\n",
            "/usr/local/lib/python3.9/dist-packages/librosa/core/spectrum.py:256: UserWarning: n_fft=1024 is too large for input signal of length=693\n",
            "  warnings.warn(\n",
            "/usr/local/lib/python3.9/dist-packages/librosa/core/spectrum.py:256: UserWarning: n_fft=1024 is too large for input signal of length=644\n",
            "  warnings.warn(\n",
            "/usr/local/lib/python3.9/dist-packages/librosa/core/spectrum.py:256: UserWarning: n_fft=1024 is too large for input signal of length=784\n",
            "  warnings.warn(\n",
            "/usr/local/lib/python3.9/dist-packages/librosa/core/spectrum.py:256: UserWarning: n_fft=1024 is too large for input signal of length=952\n",
            "  warnings.warn(\n",
            "/usr/local/lib/python3.9/dist-packages/librosa/core/spectrum.py:256: UserWarning: n_fft=1024 is too large for input signal of length=868\n",
            "  warnings.warn(\n",
            "/usr/local/lib/python3.9/dist-packages/librosa/core/spectrum.py:256: UserWarning: n_fft=1024 is too large for input signal of length=897\n",
            "  warnings.warn(\n",
            "/usr/local/lib/python3.9/dist-packages/librosa/core/spectrum.py:256: UserWarning: n_fft=1024 is too large for input signal of length=803\n",
            "  warnings.warn(\n",
            "/usr/local/lib/python3.9/dist-packages/librosa/core/spectrum.py:256: UserWarning: n_fft=1024 is too large for input signal of length=838\n",
            "  warnings.warn(\n",
            "/usr/local/lib/python3.9/dist-packages/librosa/core/spectrum.py:256: UserWarning: n_fft=1024 is too large for input signal of length=752\n",
            "  warnings.warn(\n",
            "/usr/local/lib/python3.9/dist-packages/librosa/core/spectrum.py:256: UserWarning: n_fft=1024 is too large for input signal of length=759\n",
            "  warnings.warn(\n",
            "/usr/local/lib/python3.9/dist-packages/librosa/core/spectrum.py:256: UserWarning: n_fft=1024 is too large for input signal of length=603\n",
            "  warnings.warn(\n",
            "/usr/local/lib/python3.9/dist-packages/librosa/core/spectrum.py:256: UserWarning: n_fft=1024 is too large for input signal of length=747\n",
            "  warnings.warn(\n",
            "/usr/local/lib/python3.9/dist-packages/librosa/core/spectrum.py:256: UserWarning: n_fft=1024 is too large for input signal of length=855\n",
            "  warnings.warn(\n",
            "/usr/local/lib/python3.9/dist-packages/librosa/core/spectrum.py:256: UserWarning: n_fft=1024 is too large for input signal of length=770\n",
            "  warnings.warn(\n",
            "/usr/local/lib/python3.9/dist-packages/librosa/core/spectrum.py:256: UserWarning: n_fft=1024 is too large for input signal of length=765\n",
            "  warnings.warn(\n",
            "/usr/local/lib/python3.9/dist-packages/librosa/core/spectrum.py:256: UserWarning: n_fft=1024 is too large for input signal of length=840\n",
            "  warnings.warn(\n",
            "/usr/local/lib/python3.9/dist-packages/librosa/core/spectrum.py:256: UserWarning: n_fft=1024 is too large for input signal of length=559\n",
            "  warnings.warn(\n",
            "/usr/local/lib/python3.9/dist-packages/librosa/core/spectrum.py:256: UserWarning: n_fft=1024 is too large for input signal of length=1015\n",
            "  warnings.warn(\n",
            "/usr/local/lib/python3.9/dist-packages/librosa/core/spectrum.py:256: UserWarning: n_fft=1024 is too large for input signal of length=508\n",
            "  warnings.warn(\n",
            "/usr/local/lib/python3.9/dist-packages/librosa/core/spectrum.py:256: UserWarning: n_fft=1024 is too large for input signal of length=686\n",
            "  warnings.warn(\n",
            "/usr/local/lib/python3.9/dist-packages/librosa/core/spectrum.py:256: UserWarning: n_fft=1024 is too large for input signal of length=934\n",
            "  warnings.warn(\n",
            "/usr/local/lib/python3.9/dist-packages/librosa/core/spectrum.py:256: UserWarning: n_fft=1024 is too large for input signal of length=743\n",
            "  warnings.warn(\n",
            "/usr/local/lib/python3.9/dist-packages/librosa/core/spectrum.py:256: UserWarning: n_fft=1024 is too large for input signal of length=862\n",
            "  warnings.warn(\n",
            "/usr/local/lib/python3.9/dist-packages/librosa/core/spectrum.py:256: UserWarning: n_fft=1024 is too large for input signal of length=1008\n",
            "  warnings.warn(\n",
            "/usr/local/lib/python3.9/dist-packages/librosa/core/spectrum.py:256: UserWarning: n_fft=1024 is too large for input signal of length=611\n",
            "  warnings.warn(\n",
            "/usr/local/lib/python3.9/dist-packages/librosa/core/spectrum.py:256: UserWarning: n_fft=1024 is too large for input signal of length=813\n",
            "  warnings.warn(\n",
            "/usr/local/lib/python3.9/dist-packages/librosa/core/spectrum.py:256: UserWarning: n_fft=1024 is too large for input signal of length=640\n",
            "  warnings.warn(\n",
            "/usr/local/lib/python3.9/dist-packages/librosa/core/spectrum.py:256: UserWarning: n_fft=1024 is too large for input signal of length=331\n",
            "  warnings.warn(\n",
            "/usr/local/lib/python3.9/dist-packages/librosa/core/spectrum.py:256: UserWarning: n_fft=1024 is too large for input signal of length=587\n",
            "  warnings.warn(\n",
            "/usr/local/lib/python3.9/dist-packages/librosa/core/spectrum.py:256: UserWarning: n_fft=1024 is too large for input signal of length=732\n",
            "  warnings.warn(\n",
            "/usr/local/lib/python3.9/dist-packages/librosa/core/spectrum.py:256: UserWarning: n_fft=1024 is too large for input signal of length=524\n",
            "  warnings.warn(\n",
            "/usr/local/lib/python3.9/dist-packages/librosa/core/spectrum.py:256: UserWarning: n_fft=1024 is too large for input signal of length=949\n",
            "  warnings.warn(\n",
            "/usr/local/lib/python3.9/dist-packages/librosa/core/spectrum.py:256: UserWarning: n_fft=1024 is too large for input signal of length=475\n",
            "  warnings.warn(\n",
            "/usr/local/lib/python3.9/dist-packages/librosa/core/spectrum.py:256: UserWarning: n_fft=1024 is too large for input signal of length=574\n",
            "  warnings.warn(\n",
            "/usr/local/lib/python3.9/dist-packages/librosa/core/spectrum.py:256: UserWarning: n_fft=1024 is too large for input signal of length=539\n",
            "  warnings.warn(\n",
            "/usr/local/lib/python3.9/dist-packages/librosa/core/spectrum.py:256: UserWarning: n_fft=1024 is too large for input signal of length=570\n",
            "  warnings.warn(\n",
            "/usr/local/lib/python3.9/dist-packages/librosa/core/spectrum.py:256: UserWarning: n_fft=1024 is too large for input signal of length=600\n",
            "  warnings.warn(\n",
            "/usr/local/lib/python3.9/dist-packages/librosa/core/spectrum.py:256: UserWarning: n_fft=1024 is too large for input signal of length=1004\n",
            "  warnings.warn(\n",
            "/usr/local/lib/python3.9/dist-packages/librosa/core/spectrum.py:256: UserWarning: n_fft=1024 is too large for input signal of length=502\n",
            "  warnings.warn(\n",
            "/usr/local/lib/python3.9/dist-packages/librosa/core/spectrum.py:256: UserWarning: n_fft=1024 is too large for input signal of length=1000\n",
            "  warnings.warn(\n",
            "/usr/local/lib/python3.9/dist-packages/librosa/core/spectrum.py:256: UserWarning: n_fft=1024 is too large for input signal of length=500\n",
            "  warnings.warn(\n",
            "/usr/local/lib/python3.9/dist-packages/librosa/core/spectrum.py:256: UserWarning: n_fft=1024 is too large for input signal of length=691\n",
            "  warnings.warn(\n",
            "/usr/local/lib/python3.9/dist-packages/librosa/core/spectrum.py:256: UserWarning: n_fft=1024 is too large for input signal of length=905\n",
            "  warnings.warn(\n",
            "/usr/local/lib/python3.9/dist-packages/librosa/core/spectrum.py:256: UserWarning: n_fft=1024 is too large for input signal of length=453\n",
            "  warnings.warn(\n",
            "/usr/local/lib/python3.9/dist-packages/librosa/core/spectrum.py:256: UserWarning: n_fft=1024 is too large for input signal of length=699\n",
            "  warnings.warn(\n",
            "/usr/local/lib/python3.9/dist-packages/librosa/core/spectrum.py:256: UserWarning: n_fft=1024 is too large for input signal of length=837\n",
            "  warnings.warn(\n",
            "/usr/local/lib/python3.9/dist-packages/librosa/core/spectrum.py:256: UserWarning: n_fft=1024 is too large for input signal of length=633\n",
            "  warnings.warn(\n",
            "/usr/local/lib/python3.9/dist-packages/librosa/core/spectrum.py:256: UserWarning: n_fft=1024 is too large for input signal of length=627\n",
            "  warnings.warn(\n",
            "/usr/local/lib/python3.9/dist-packages/librosa/core/spectrum.py:256: UserWarning: n_fft=1024 is too large for input signal of length=616\n",
            "  warnings.warn(\n",
            "/usr/local/lib/python3.9/dist-packages/librosa/core/spectrum.py:256: UserWarning: n_fft=1024 is too large for input signal of length=576\n",
            "  warnings.warn(\n",
            "/usr/local/lib/python3.9/dist-packages/librosa/core/spectrum.py:256: UserWarning: n_fft=1024 is too large for input signal of length=601\n",
            "  warnings.warn(\n",
            "/usr/local/lib/python3.9/dist-packages/librosa/core/spectrum.py:256: UserWarning: n_fft=1024 is too large for input signal of length=614\n",
            "  warnings.warn(\n",
            "/usr/local/lib/python3.9/dist-packages/librosa/core/spectrum.py:256: UserWarning: n_fft=1024 is too large for input signal of length=471\n",
            "  warnings.warn(\n",
            "/usr/local/lib/python3.9/dist-packages/librosa/core/spectrum.py:256: UserWarning: n_fft=1024 is too large for input signal of length=741\n",
            "  warnings.warn(\n",
            "/usr/local/lib/python3.9/dist-packages/librosa/core/spectrum.py:256: UserWarning: n_fft=1024 is too large for input signal of length=629\n",
            "  warnings.warn(\n",
            "/usr/local/lib/python3.9/dist-packages/librosa/core/spectrum.py:256: UserWarning: n_fft=1024 is too large for input signal of length=919\n",
            "  warnings.warn(\n",
            "/usr/local/lib/python3.9/dist-packages/librosa/core/spectrum.py:256: UserWarning: n_fft=1024 is too large for input signal of length=460\n",
            "  warnings.warn(\n",
            "/usr/local/lib/python3.9/dist-packages/librosa/core/spectrum.py:256: UserWarning: n_fft=1024 is too large for input signal of length=517\n",
            "  warnings.warn(\n",
            "/usr/local/lib/python3.9/dist-packages/librosa/core/spectrum.py:256: UserWarning: n_fft=1024 is too large for input signal of length=985\n",
            "  warnings.warn(\n",
            "/usr/local/lib/python3.9/dist-packages/librosa/core/spectrum.py:256: UserWarning: n_fft=1024 is too large for input signal of length=493\n",
            "  warnings.warn(\n"
          ]
        }
      ],
      "source": [
        "carpetasAudios = os.listdir('/content/drive/MyDrive/Audios Señales')\n",
        "carpetasAudios.sort()\n",
        "dataset=[]\n",
        "\n",
        "for label, audioBruto in enumerate(carpetasAudios):\n",
        "  for fileName in glob.glob(os.path.join('/content/drive/MyDrive/Audios Señales', audioBruto, '*.wav')):\n",
        "    try:\n",
        "      signal, sr = librosa.load(fileName, mono=True, sr=fs)\n",
        "      trimmed_signal = librosa.effects.trim(signal, top_db= 20)\n",
        "      reduced_noise_signal = nr.reduce_noise(trimmed_signal[0], fs)\n",
        "      normalized_signal = librosa.util.normalize(reduced_noise_signal)\n",
        "\n",
        "      melspec = librosa.feature.melspectrogram(y =normalized_signal, sr=fs, power=2, n_mels=n_mels_parameter, center=False, hop_length=hop_length_parameter, n_fft=n_fft_parameter)\n",
        "      melspecM= np.mean(melspec.T, axis=0)\n",
        "\n",
        "      mfcc = librosa.feature.mfcc(y=normalized_signal, n_mfcc=13)\n",
        "      mfccM = np.mean(mfcc.T, axis=0)\n",
        "      delta_mfcc = librosa.feature.delta(mfccM)\n",
        "      delta2_mfcc = librosa.feature.delta(mfccM, order=2)\n",
        "\n",
        "      chroma = librosa.feature.chroma_stft(y=normalized_signal, sr=fs)\n",
        "      chromaM = np.mean(chroma.T, axis=0)\n",
        "\n",
        "      tonnetz = librosa.feature.tonnetz(y=librosa.effects.harmonic(signal), sr=fs)\n",
        "      tonnetM = np.mean(tonnetz.T,axis=0)\n",
        "\n",
        "\n",
        "      signal_features = np.hstack((mfccM, delta_mfcc, delta2_mfcc, melspecM, chromaM, tonnetM))\n",
        "\n",
        "      dataset.append([signal_features, label])\n",
        "\n",
        "    except Exception as e:\n",
        "      print(f'Error: {e}')\n",
        "      continue\n",
        "      print('TODO BELLACON´T')\n",
        "\n"
      ]
    },
    {
      "cell_type": "markdown",
      "metadata": {
        "id": "cy8g5zZTraEI"
      },
      "source": [
        "# Dataset"
      ]
    },
    {
      "cell_type": "markdown",
      "metadata": {
        "id": "dHI3ptOGxt1j"
      },
      "source": [
        "## Imports\n"
      ]
    },
    {
      "cell_type": "code",
      "execution_count": null,
      "metadata": {
        "id": "gDI95VZZjcbg"
      },
      "outputs": [],
      "source": [
        "from sklearn.model_selection import train_test_split\n",
        "from sklearn.preprocessing import MinMaxScaler\n",
        "import tensorflow as tf\n",
        "from tensorflow import keras\n",
        "from keras.models import Sequential\n",
        "from keras.layers.core import Dense\n",
        "from keras.layers.core import Dropout\n",
        "from keras import regularizers\n",
        "from sklearn import metrics\n",
        "from sklearn.metrics import precision_score\n",
        "from keras.callbacks import ModelCheckpoint\n",
        "from sklearn.ensemble import RandomForestClassifier\n",
        "from sklearn.model_selection import GridSearchCV"
      ]
    },
    {
      "cell_type": "markdown",
      "metadata": {
        "id": "Bn0fD00TyEvp"
      },
      "source": [
        "## Particionamiento"
      ]
    },
    {
      "cell_type": "code",
      "source": [
        "featureDf= pd.DataFrame(dataset, columns=['CARACATERISITCAS', 'ETIQUETA'])\n",
        "x = np.array(featureDf.CARACATERISITCAS.tolist())\n",
        "y =np.array(featureDf.ETIQUETA.tolist())\n",
        "y = y.reshape((y.shape[0],-1))\n",
        "print(y.shape)"
      ],
      "metadata": {
        "colab": {
          "base_uri": "https://localhost:8080/"
        },
        "id": "hrGOB5c1vB6l",
        "outputId": "1b67b397-6e14-4a8c-feb7-3cd8339a5ad0"
      },
      "execution_count": null,
      "outputs": [
        {
          "output_type": "stream",
          "name": "stdout",
          "text": [
            "(665, 1)\n"
          ]
        }
      ]
    },
    {
      "cell_type": "code",
      "source": [
        "x_train, x_test, y_train, y_test = train_test_split(x, y, test_size=0.2, random_state=10, stratify=y)  #180   #10\n",
        "batch_size =len(x_train)\n",
        "print(x_train.shape, y_train.shape, y_test.shape )"
      ],
      "metadata": {
        "colab": {
          "base_uri": "https://localhost:8080/"
        },
        "id": "csFV5YPavIaX",
        "outputId": "a8fa6b05-ec9a-4e12-8ac9-a0ffc29f6353"
      },
      "execution_count": null,
      "outputs": [
        {
          "output_type": "stream",
          "name": "stdout",
          "text": [
            "(532, 97) (532, 1) (133, 1)\n"
          ]
        }
      ]
    },
    {
      "cell_type": "markdown",
      "metadata": {
        "id": "8KAmvc4fyQ3A"
      },
      "source": [
        "## Visualización del dataset"
      ]
    },
    {
      "cell_type": "code",
      "execution_count": null,
      "metadata": {
        "colab": {
          "base_uri": "https://localhost:8080/",
          "height": 206
        },
        "id": "kBaC-PxPlfVI",
        "outputId": "0e68b424-e6a4-4b1f-e418-f09bf5643211"
      },
      "outputs": [
        {
          "output_type": "execute_result",
          "data": {
            "text/plain": [
              "                                    CARACATERISITCAS  ETIQUETA\n",
              "0  [-281.02996826171875, 106.826416015625, 2.2193...         1\n",
              "1  [-327.4534606933594, 125.95188903808594, -31.9...         1\n",
              "2  [-335.5211486816406, 157.86436462402344, 11.30...         1\n",
              "3  [-277.38067626953125, 126.44636535644531, 32.0...         1\n",
              "4  [-284.1249084472656, 99.69916534423828, 39.521...         1"
            ],
            "text/html": [
              "\n",
              "  <div id=\"df-7f866646-83e8-40a1-a2f1-d0d933b3e391\">\n",
              "    <div class=\"colab-df-container\">\n",
              "      <div>\n",
              "<style scoped>\n",
              "    .dataframe tbody tr th:only-of-type {\n",
              "        vertical-align: middle;\n",
              "    }\n",
              "\n",
              "    .dataframe tbody tr th {\n",
              "        vertical-align: top;\n",
              "    }\n",
              "\n",
              "    .dataframe thead th {\n",
              "        text-align: right;\n",
              "    }\n",
              "</style>\n",
              "<table border=\"1\" class=\"dataframe\">\n",
              "  <thead>\n",
              "    <tr style=\"text-align: right;\">\n",
              "      <th></th>\n",
              "      <th>CARACATERISITCAS</th>\n",
              "      <th>ETIQUETA</th>\n",
              "    </tr>\n",
              "  </thead>\n",
              "  <tbody>\n",
              "    <tr>\n",
              "      <th>0</th>\n",
              "      <td>[-281.02996826171875, 106.826416015625, 2.2193...</td>\n",
              "      <td>1</td>\n",
              "    </tr>\n",
              "    <tr>\n",
              "      <th>1</th>\n",
              "      <td>[-327.4534606933594, 125.95188903808594, -31.9...</td>\n",
              "      <td>1</td>\n",
              "    </tr>\n",
              "    <tr>\n",
              "      <th>2</th>\n",
              "      <td>[-335.5211486816406, 157.86436462402344, 11.30...</td>\n",
              "      <td>1</td>\n",
              "    </tr>\n",
              "    <tr>\n",
              "      <th>3</th>\n",
              "      <td>[-277.38067626953125, 126.44636535644531, 32.0...</td>\n",
              "      <td>1</td>\n",
              "    </tr>\n",
              "    <tr>\n",
              "      <th>4</th>\n",
              "      <td>[-284.1249084472656, 99.69916534423828, 39.521...</td>\n",
              "      <td>1</td>\n",
              "    </tr>\n",
              "  </tbody>\n",
              "</table>\n",
              "</div>\n",
              "      <button class=\"colab-df-convert\" onclick=\"convertToInteractive('df-7f866646-83e8-40a1-a2f1-d0d933b3e391')\"\n",
              "              title=\"Convert this dataframe to an interactive table.\"\n",
              "              style=\"display:none;\">\n",
              "        \n",
              "  <svg xmlns=\"http://www.w3.org/2000/svg\" height=\"24px\"viewBox=\"0 0 24 24\"\n",
              "       width=\"24px\">\n",
              "    <path d=\"M0 0h24v24H0V0z\" fill=\"none\"/>\n",
              "    <path d=\"M18.56 5.44l.94 2.06.94-2.06 2.06-.94-2.06-.94-.94-2.06-.94 2.06-2.06.94zm-11 1L8.5 8.5l.94-2.06 2.06-.94-2.06-.94L8.5 2.5l-.94 2.06-2.06.94zm10 10l.94 2.06.94-2.06 2.06-.94-2.06-.94-.94-2.06-.94 2.06-2.06.94z\"/><path d=\"M17.41 7.96l-1.37-1.37c-.4-.4-.92-.59-1.43-.59-.52 0-1.04.2-1.43.59L10.3 9.45l-7.72 7.72c-.78.78-.78 2.05 0 2.83L4 21.41c.39.39.9.59 1.41.59.51 0 1.02-.2 1.41-.59l7.78-7.78 2.81-2.81c.8-.78.8-2.07 0-2.86zM5.41 20L4 18.59l7.72-7.72 1.47 1.35L5.41 20z\"/>\n",
              "  </svg>\n",
              "      </button>\n",
              "      \n",
              "  <style>\n",
              "    .colab-df-container {\n",
              "      display:flex;\n",
              "      flex-wrap:wrap;\n",
              "      gap: 12px;\n",
              "    }\n",
              "\n",
              "    .colab-df-convert {\n",
              "      background-color: #E8F0FE;\n",
              "      border: none;\n",
              "      border-radius: 50%;\n",
              "      cursor: pointer;\n",
              "      display: none;\n",
              "      fill: #1967D2;\n",
              "      height: 32px;\n",
              "      padding: 0 0 0 0;\n",
              "      width: 32px;\n",
              "    }\n",
              "\n",
              "    .colab-df-convert:hover {\n",
              "      background-color: #E2EBFA;\n",
              "      box-shadow: 0px 1px 2px rgba(60, 64, 67, 0.3), 0px 1px 3px 1px rgba(60, 64, 67, 0.15);\n",
              "      fill: #174EA6;\n",
              "    }\n",
              "\n",
              "    [theme=dark] .colab-df-convert {\n",
              "      background-color: #3B4455;\n",
              "      fill: #D2E3FC;\n",
              "    }\n",
              "\n",
              "    [theme=dark] .colab-df-convert:hover {\n",
              "      background-color: #434B5C;\n",
              "      box-shadow: 0px 1px 3px 1px rgba(0, 0, 0, 0.15);\n",
              "      filter: drop-shadow(0px 1px 2px rgba(0, 0, 0, 0.3));\n",
              "      fill: #FFFFFF;\n",
              "    }\n",
              "  </style>\n",
              "\n",
              "      <script>\n",
              "        const buttonEl =\n",
              "          document.querySelector('#df-7f866646-83e8-40a1-a2f1-d0d933b3e391 button.colab-df-convert');\n",
              "        buttonEl.style.display =\n",
              "          google.colab.kernel.accessAllowed ? 'block' : 'none';\n",
              "\n",
              "        async function convertToInteractive(key) {\n",
              "          const element = document.querySelector('#df-7f866646-83e8-40a1-a2f1-d0d933b3e391');\n",
              "          const dataTable =\n",
              "            await google.colab.kernel.invokeFunction('convertToInteractive',\n",
              "                                                     [key], {});\n",
              "          if (!dataTable) return;\n",
              "\n",
              "          const docLinkHtml = 'Like what you see? Visit the ' +\n",
              "            '<a target=\"_blank\" href=https://colab.research.google.com/notebooks/data_table.ipynb>data table notebook</a>'\n",
              "            + ' to learn more about interactive tables.';\n",
              "          element.innerHTML = '';\n",
              "          dataTable['output_type'] = 'display_data';\n",
              "          await google.colab.output.renderOutput(dataTable, element);\n",
              "          const docLink = document.createElement('div');\n",
              "          docLink.innerHTML = docLinkHtml;\n",
              "          element.appendChild(docLink);\n",
              "        }\n",
              "      </script>\n",
              "    </div>\n",
              "  </div>\n",
              "  "
            ]
          },
          "metadata": {},
          "execution_count": 97
        }
      ],
      "source": [
        "featureDf.head()"
      ]
    },
    {
      "cell_type": "markdown",
      "metadata": {
        "id": "CdrAksFr4lGi"
      },
      "source": [
        "# Random Forrest\n"
      ]
    },
    {
      "cell_type": "markdown",
      "metadata": {
        "id": "RVW4V1REyV4i"
      },
      "source": [
        "## Modelo\n"
      ]
    },
    {
      "cell_type": "code",
      "execution_count": null,
      "metadata": {
        "colab": {
          "base_uri": "https://localhost:8080/"
        },
        "id": "weaJdfo-PoW4",
        "outputId": "05a601df-03d7-4b11-8e2d-a7bea22a2bef"
      },
      "outputs": [
        {
          "output_type": "stream",
          "name": "stderr",
          "text": [
            "<ipython-input-106-b13a32da3e85>:5: DataConversionWarning: A column-vector y was passed when a 1d array was expected. Please change the shape of y to (n_samples,), for example using ravel().\n",
            "  clf.fit(x_train, y_train)\n"
          ]
        },
        {
          "output_type": "stream",
          "name": "stdout",
          "text": [
            "Exactitud: 0.81\n",
            "Precisión: 0.81\n"
          ]
        }
      ],
      "source": [
        "# Crear clasificador con los parámetros dados\n",
        "clf = RandomForestClassifier(n_estimators=440, criterion='entropy', max_features='sqrt', random_state=28)\n",
        "\n",
        "# Entrenar el clasificador\n",
        "clf.fit(x_train, y_train)\n",
        "\n",
        "# Evaluar el clasificador en los datos de prueba\n",
        "score = clf.score(x_test, y_test)\n",
        "print(\"Exactitud: {:.2f}\".format(score))\n",
        "\n",
        "y_pred = clf.predict(x_test)\n",
        "precision = precision_score(y_test, y_pred, average='micro')\n",
        "\n",
        "print(\"Precisión: {:.2f}\".format(precision))"
      ]
    },
    {
      "cell_type": "markdown",
      "metadata": {
        "id": "GPUuppFpyaFQ"
      },
      "source": [
        "## Medición del performance"
      ]
    },
    {
      "cell_type": "code",
      "execution_count": null,
      "metadata": {
        "colab": {
          "base_uri": "https://localhost:8080/"
        },
        "id": "WkW_4HK-d7y_",
        "outputId": "7f30b4cc-477d-4661-c198-d9fe04448856"
      },
      "outputs": [
        {
          "output_type": "stream",
          "name": "stdout",
          "text": [
            "[3 5 3 2 4 5 4 5 2 5 4 5 3 1 4 3 3 3 4 3 4 5 1 2 4 1 4 5 3 1 5 5 4 3 1 2 4\n",
            " 1 2 1 5 5 3 2 2 1 5 4 1 4 1 4 4 5 2 2 2 4 3 4 1 4 4 4 3 2 5 5 1 5 3 2 2 2\n",
            " 1 5 3 1 1 1 4 1 4 3 5 1 2 1 3 5 5 2 2 3 2 3 1 3 5 5 2 1 1 1 2 3 2 5 4 1 5\n",
            " 5 5 2 1 3 3 2 3 1 4 3 5 2 4 2 3 4 3 4 2 1 2]\n",
            "----------------------------------------\n",
            "[3 1 3 2 3 5 4 5 2 5 4 5 3 2 4 3 3 3 4 3 4 1 1 2 4 1 4 5 5 1 2 5 4 3 4 2 4\n",
            " 1 2 1 5 5 3 2 2 1 5 4 1 4 1 4 4 5 2 2 2 4 3 4 1 4 4 4 3 2 5 5 2 5 3 2 2 5\n",
            " 1 2 1 1 5 5 4 1 4 3 5 1 2 1 5 5 5 3 2 3 5 3 3 3 5 5 2 1 5 2 2 3 2 5 2 1 5\n",
            " 1 5 2 2 5 1 2 3 1 4 3 5 2 4 2 3 4 3 4 2 4 2]\n"
          ]
        }
      ],
      "source": [
        "# Error de test del primer modelo\n",
        "# ==============================================================================\n",
        "predicciones = y_pred\n",
        "print(y_test.ravel())\n",
        "print(\"----------------------------------------\")\n",
        "print(predicciones[:])"
      ]
    },
    {
      "cell_type": "code",
      "execution_count": null,
      "metadata": {
        "colab": {
          "base_uri": "https://localhost:8080/",
          "height": 581
        },
        "id": "tbArXKIteD8_",
        "outputId": "7a604fa0-50f1-44fb-ee7c-39e79432c4ba"
      },
      "outputs": [
        {
          "output_type": "stream",
          "name": "stdout",
          "text": [
            "Matriz de confusión\n",
            "-------------------\n",
            "\n",
            "El accuracy de test es: 81.203007518797 %\n",
            "El número de datos de testeo es: 133\n",
            "El número de predicciones correctas es: 3541\n"
          ]
        },
        {
          "output_type": "display_data",
          "data": {
            "text/plain": [
              "<Figure size 640x480 with 2 Axes>"
            ],
            "image/png": "[encoded data removed]"
          },
          "metadata": {}
        }
      ],
      "source": [
        "from sklearn.metrics import accuracy_score\n",
        "accuracy = accuracy_score(\n",
        "            y_true    = y_test.ravel(),\n",
        "            y_pred    = predicciones.ravel(),\n",
        "            normalize = True\n",
        "           )\n",
        "\n",
        "print(\"Matriz de confusión\")\n",
        "print(\"-------------------\")\n",
        "T5_lables = ['Empezar', 'Girar','Leprechaun','Mas','Menos']\n",
        "\n",
        "ax= plt.subplot()\n",
        "\n",
        "cm = metrics.confusion_matrix(np.asarray(predicciones), np.asarray(y_test))\n",
        "sns.heatmap(cm, annot=True, fmt='g', ax=ax);  #annot=True to annotate cells, ftm='g' to disable scientific notation\n",
        "\n",
        "# labels, title and ticks\n",
        "ax.set_xlabel('Predicted labels');ax.set_ylabel('True labels');\n",
        "ax.set_title('Confusion Matrix');\n",
        "ax.xaxis.set_ticklabels(T5_lables); ax.yaxis.set_ticklabels(T5_lables);\n",
        "print(\"\")\n",
        "print(f\"El accuracy de test es: {100 * accuracy} %\")\n",
        "\n",
        "num_correct = np.sum(y_test == predicciones.ravel())\n",
        "print(f\"El número de datos de testeo es: {len(y_test)}\")\n",
        "print(f\"El número de predicciones correctas es: {num_correct}\")"
      ]
    },
    {
      "cell_type": "code",
      "execution_count": null,
      "metadata": {
        "colab": {
          "base_uri": "https://localhost:8080/"
        },
        "id": "MLPkF7RTzSwO",
        "outputId": "2bfcb6f8-0bc6-4a1c-8448-141c8b80b918"
      },
      "outputs": [
        {
          "output_type": "stream",
          "name": "stdout",
          "text": [
            "Classification Report:\n",
            "              precision    recall  f1-score   support\n",
            "\n",
            "           1       0.77      0.63      0.69        27\n",
            "           2       0.77      0.89      0.83        27\n",
            "           3       0.88      0.81      0.84        26\n",
            "           4       0.92      0.92      0.92        26\n",
            "           5       0.73      0.81      0.77        27\n",
            "\n",
            "    accuracy                           0.81       133\n",
            "   macro avg       0.82      0.81      0.81       133\n",
            "weighted avg       0.81      0.81      0.81       133\n",
            "\n"
          ]
        },
        {
          "output_type": "stream",
          "name": "stderr",
          "text": [
            "<ipython-input-116-9a65448d69dd>:5: DataConversionWarning: A column-vector y was passed when a 1d array was expected. Please change the shape of y to (n_samples,), for example using ravel().\n",
            "  clf.fit(x_train,y_train)\n",
            "<ipython-input-116-9a65448d69dd>:7: DataConversionWarning: A column-vector y was passed when a 1d array was expected. Please change the shape of y to (n_samples,), for example using ravel().\n",
            "  clf.fit(x_test,y_test)\n"
          ]
        }
      ],
      "source": [
        "result1 = metrics.classification_report(y_test, y_pred)\n",
        "print(\"Classification Report:\",)\n",
        "print (result1)\n",
        "\n",
        "clf.fit(x_train,y_train)\n",
        "#plt.plot(clf.loss_curve_)\n",
        "clf.fit(x_test,y_test)\n",
        "#plt.plot(clf.loss_curve_)\n",
        "plt.show()"
      ]
    },
    {
      "cell_type": "markdown",
      "metadata": {
        "id": "r2eS5IbofHD7"
      },
      "source": [
        "# Guardar el modelo"
      ]
    },
    {
      "cell_type": "code",
      "execution_count": null,
      "metadata": {
        "id": "X-o7rRnFSKGg"
      },
      "outputs": [],
      "source": [
        "import joblib"
      ]
    },
    {
      "cell_type": "code",
      "execution_count": null,
      "metadata": {
        "colab": {
          "base_uri": "https://localhost:8080/"
        },
        "id": "KBno9KbN-Q7Q",
        "outputId": "7876935e-1bca-4841-a7d8-dd6cdf416d62"
      },
      "outputs": [
        {
          "output_type": "execute_result",
          "data": {
            "text/plain": [
              "['MODELOJOBLIB.joblib']"
            ]
          },
          "metadata": {},
          "execution_count": 178
        }
      ],
      "source": [
        "joblib.dump(clf,\"MODELOJOBLIB.joblib\")"
      ]
    },
    {
      "cell_type": "markdown",
      "metadata": {
        "id": "UUPbwDpvqrwE"
      },
      "source": [
        "\n",
        "# 🔥 Testeo del modelo"
      ]
    },
    {
      "cell_type": "markdown",
      "metadata": {
        "id": "J89huzT1qvrw"
      },
      "source": [
        "## Preprocesamiento y extracción de características para UN SOLO AUDIO"
      ]
    },
    {
      "cell_type": "code",
      "execution_count": null,
      "metadata": {
        "id": "6LXa6A08HHA0"
      },
      "outputs": [],
      "source": [
        "def pruebaAudio(signal):\n",
        "    trimmed_signal = librosa.effects.trim(signal, top_db= 20)\n",
        "    reduced_noise_signal = nr.reduce_noise(trimmed_signal[0], fs)\n",
        "    normalized_signal = librosa.util.normalize(reduced_noise_signal)\n",
        "\n",
        "    melspec = librosa.feature.melspectrogram(y =normalized_signal, sr=fs, power=2, n_mels=n_mels_parameter, center=False, hop_length=hop_length_parameter, n_fft=n_fft_parameter)\n",
        "    melspecM= np.mean(melspec.T, axis=0)\n",
        "\n",
        "    mfcc = librosa.feature.mfcc(y =normalized_signal, n_mfcc=13)\n",
        "    mfccM = np.mean(mfcc.T, axis=0)\n",
        "    delta_mfcc = librosa.feature.delta(mfccM)\n",
        "    delta2_mfcc = librosa.feature.delta(mfccM, order=2)\n",
        "\n",
        "    chroma = librosa.feature.chroma_stft(y=normalized_signal, sr=fs)\n",
        "    chromaM = np.mean(chroma.T, axis=0)\n",
        "\n",
        "    tonnetz = librosa.feature.tonnetz(y=librosa.effects.harmonic(signal), sr=fs)\n",
        "    tonnetM = np.mean(tonnetz.T,axis=0)\n",
        "\n",
        "\n",
        "    signal_features = np.hstack((mfccM, delta_mfcc, delta2_mfcc, melspecM, chromaM, tonnetM))\n",
        "\n",
        "    return signal_features"
      ]
    },
    {
      "cell_type": "markdown",
      "metadata": {
        "id": "VVAMy35Lq9sB"
      },
      "source": [
        "## Cargar un audio de testeo y procesarlo"
      ]
    },
    {
      "cell_type": "code",
      "execution_count": null,
      "metadata": {
        "id": "FIV-cYGv1BtA",
        "colab": {
          "base_uri": "https://localhost:8080/"
        },
        "outputId": "4b43c05f-6a34-4ee7-a6d7-4cf53427bf08"
      },
      "outputs": [
        {
          "output_type": "stream",
          "name": "stderr",
          "text": [
            "/usr/local/lib/python3.9/dist-packages/librosa/core/spectrum.py:256: UserWarning: n_fft=1024 is too large for input signal of length=552\n",
            "  warnings.warn(\n"
          ]
        }
      ],
      "source": [
        "# Escoger un número entre el 1 y el 133\n",
        "\n",
        "carpeta_a_escoger = \"Mas\"\n",
        "ruta = f\"/content/drive/MyDrive/Audios Señales/{carpeta_a_escoger}/{carpeta_a_escoger}_123.wav\"\n",
        "\n",
        "audioBruto, s = librosa.load(path=ruta, sr= fs, mono=True)\n",
        "prueba_signals = pruebaAudio(audioBruto)\n",
        "# Se cambia la forma del arreglo puesto que el modelo entrenado recibe como parámetro un arreglo de dos dimensiones, donde\n",
        "# el primer índice es 1 fila y el segundo son las características del audio\n",
        "prueba_signals = np.reshape(prueba_signals,(1,97))"
      ]
    },
    {
      "cell_type": "markdown",
      "source": [
        "## Cargamos el modelo previamente guardado"
      ],
      "metadata": {
        "id": "NnCFWMZV278P"
      }
    },
    {
      "cell_type": "code",
      "execution_count": null,
      "metadata": {
        "id": "oppuME_cCiwh"
      },
      "outputs": [],
      "source": [
        "loaded_model = joblib.load(\"MODELOJOBLIB.joblib\")"
      ]
    },
    {
      "cell_type": "code",
      "execution_count": null,
      "metadata": {
        "colab": {
          "base_uri": "https://localhost:8080/"
        },
        "id": "rJm1RixZ0_vi",
        "outputId": "f4207b26-8a0a-43cd-cf51-06721b693250"
      },
      "outputs": [
        {
          "output_type": "stream",
          "name": "stdout",
          "text": [
            "[4]\n",
            "[[0.08409091 0.04545455 0.29545455 0.48636364 0.08863636]]\n"
          ]
        }
      ],
      "source": [
        "prediccion = clf.predict(prueba_signals)\n",
        "print(prediccion)\n",
        "prediccionValor = clf.predict_proba(prueba_signals)\n",
        "print(prediccionValor)\n",
        "# print(y_test.ravel())"
      ]
    }
  ],
  "metadata": {
    "accelerator": "GPU",
    "colab": {
      "provenance": []
    },
    "gpuClass": "standard",
    "kernelspec": {
      "display_name": "Python 3",
      "name": "python3"
    },
    "language_info": {
      "name": "python"
    }
  },
  "nbformat": 4,
  "nbformat_minor": 0
}